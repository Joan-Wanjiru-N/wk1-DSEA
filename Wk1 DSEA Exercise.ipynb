{
 "cells": [
  {
   "cell_type": "markdown",
   "metadata": {},
   "source": [
    "Difference between 17 and a user input Number, if Number greater than 17 print double abs difference"
   ]
  },
  {
   "cell_type": "code",
   "execution_count": 20,
   "metadata": {},
   "outputs": [
    {
     "name": "stdout",
     "output_type": "stream",
     "text": [
      "Enter a number: 3\n",
      "14\n"
     ]
    }
   ],
   "source": [
    "import numpy as np\n",
    "Num = int(input(\"Enter a number: \"))\n",
    "diff_Num = 17 - Num\n",
    "if Num > 17:\n",
    "    answer = np.abs( 2 * diff_Num )\n",
    "else:\n",
    "    answer = diff_Num\n",
    "print(answer)"
   ]
  },
  {
   "cell_type": "markdown",
   "metadata": {},
   "source": [
    "---"
   ]
  },
  {
   "cell_type": "markdown",
   "metadata": {},
   "source": [
    "Install Sympy Library "
   ]
  },
  {
   "cell_type": "code",
   "execution_count": 23,
   "metadata": {
    "scrolled": false
   },
   "outputs": [
    {
     "name": "stdout",
     "output_type": "stream",
     "text": [
      "Collecting package metadata (current_repodata.json): ...working... done\n",
      "Solving environment: ...working... done\n",
      "\n",
      "\n",
      "Note: you may need to restart the kernel to use updated packages.\n",
      "## Package Plan ##\n",
      "\n",
      "  environment location: C:\\Users\\JO1\\anaconda3\n",
      "\n",
      "  added / updated specs:\n",
      "    - sympy\n",
      "\n",
      "\n",
      "The following packages will be downloaded:\n",
      "\n",
      "    package                    |            build\n",
      "    ---------------------------|-----------------\n",
      "    conda-4.9.1                |   py38haa95532_0         2.9 MB\n",
      "    ------------------------------------------------------------\n",
      "                                           Total:         2.9 MB\n",
      "\n",
      "The following packages will be UPDATED:\n",
      "\n",
      "  conda                                        4.8.5-py38_0 --> 4.9.1-py38haa95532_0\n",
      "\n",
      "\n",
      "\n",
      "Downloading and Extracting Packages\n",
      "\n",
      "conda-4.9.1          | 2.9 MB    |            |   0% \n",
      "conda-4.9.1          | 2.9 MB    |            |   1% \n",
      "conda-4.9.1          | 2.9 MB    | 2          |   2% \n",
      "conda-4.9.1          | 2.9 MB    | 3          |   4% \n",
      "conda-4.9.1          | 2.9 MB    | 5          |   6% \n",
      "conda-4.9.1          | 2.9 MB    | 8          |   9% \n",
      "conda-4.9.1          | 2.9 MB    | #          |  11% \n",
      "conda-4.9.1          | 2.9 MB    | #2         |  13% \n",
      "conda-4.9.1          | 2.9 MB    | #4         |  14% \n",
      "conda-4.9.1          | 2.9 MB    | #6         |  17% \n",
      "conda-4.9.1          | 2.9 MB    | ##         |  20% \n",
      "conda-4.9.1          | 2.9 MB    | ##2        |  23% \n",
      "conda-4.9.1          | 2.9 MB    | ##6        |  26% \n",
      "conda-4.9.1          | 2.9 MB    | ##9        |  29% \n",
      "conda-4.9.1          | 2.9 MB    | ###2       |  32% \n",
      "conda-4.9.1          | 2.9 MB    | ###4       |  35% \n",
      "conda-4.9.1          | 2.9 MB    | ###7       |  38% \n",
      "conda-4.9.1          | 2.9 MB    | ####       |  40% \n",
      "conda-4.9.1          | 2.9 MB    | ####3      |  43% \n",
      "conda-4.9.1          | 2.9 MB    | ####5      |  46% \n",
      "conda-4.9.1          | 2.9 MB    | ####8      |  48% \n",
      "conda-4.9.1          | 2.9 MB    | #####      |  51% \n",
      "conda-4.9.1          | 2.9 MB    | #####2     |  53% \n",
      "conda-4.9.1          | 2.9 MB    | #####4     |  55% \n",
      "conda-4.9.1          | 2.9 MB    | #####7     |  57% \n",
      "conda-4.9.1          | 2.9 MB    | ######     |  60% \n",
      "conda-4.9.1          | 2.9 MB    | ######2    |  63% \n",
      "conda-4.9.1          | 2.9 MB    | ######4    |  65% \n",
      "conda-4.9.1          | 2.9 MB    | ######6    |  67% \n",
      "conda-4.9.1          | 2.9 MB    | #######1   |  72% \n",
      "conda-4.9.1          | 2.9 MB    | #######5   |  75% \n",
      "conda-4.9.1          | 2.9 MB    | #######8   |  78% \n",
      "conda-4.9.1          | 2.9 MB    | ########1  |  82% \n",
      "conda-4.9.1          | 2.9 MB    | ########4  |  85% \n",
      "conda-4.9.1          | 2.9 MB    | ########8  |  88% \n",
      "conda-4.9.1          | 2.9 MB    | #########  |  91% \n",
      "conda-4.9.1          | 2.9 MB    | #########3 |  94% \n",
      "conda-4.9.1          | 2.9 MB    | #########6 |  96% \n",
      "conda-4.9.1          | 2.9 MB    | #########9 |  99% \n",
      "conda-4.9.1          | 2.9 MB    | ########## | 100% \n",
      "Preparing transaction: ...working... done\n",
      "Verifying transaction: ...working... done\n",
      "Executing transaction: ...working... done\n"
     ]
    }
   ],
   "source": [
    "conda install sympy"
   ]
  },
  {
   "cell_type": "markdown",
   "metadata": {},
   "source": [
    "Differential Calculus"
   ]
  },
  {
   "cell_type": "code",
   "execution_count": 40,
   "metadata": {},
   "outputs": [],
   "source": [
    "import sympy as sym\n",
    "from sympy import *"
   ]
  },
  {
   "cell_type": "code",
   "execution_count": 42,
   "metadata": {},
   "outputs": [],
   "source": [
    "#declare a variable that will be used as a letter in the F(x) function \n",
    "x = Symbol('x')"
   ]
  },
  {
   "cell_type": "code",
   "execution_count": 43,
   "metadata": {},
   "outputs": [],
   "source": [
    "#assigning the function to the variable f\n",
    "f = 2*x**2 + 3"
   ]
  },
  {
   "cell_type": "code",
   "execution_count": 44,
   "metadata": {},
   "outputs": [
    {
     "data": {
      "text/latex": [
       "$\\displaystyle 4 x$"
      ],
      "text/plain": [
       "4*x"
      ]
     },
     "execution_count": 44,
     "metadata": {},
     "output_type": "execute_result"
    }
   ],
   "source": [
    "#differentiating the given function\n",
    "sym.diff(f)"
   ]
  }
 ],
 "metadata": {
  "kernelspec": {
   "display_name": "Python 3",
   "language": "python",
   "name": "python3"
  },
  "language_info": {
   "codemirror_mode": {
    "name": "ipython",
    "version": 3
   },
   "file_extension": ".py",
   "mimetype": "text/x-python",
   "name": "python",
   "nbconvert_exporter": "python",
   "pygments_lexer": "ipython3",
   "version": "3.8.3"
  }
 },
 "nbformat": 4,
 "nbformat_minor": 4
}
